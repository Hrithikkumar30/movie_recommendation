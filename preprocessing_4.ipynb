{
  "cells": [
    {
      "cell_type": "code",
      "execution_count": 1,
      "metadata": {
        "id": "gZhqxpznOZWS"
      },
      "outputs": [],
      "source": [
        "import pandas as pd\n",
        "import numpy as np\n",
        "import requests\n",
        "import bs4 as bs\n",
        "import urllib.request"
      ]
    },
    {
      "cell_type": "markdown",
      "metadata": {
        "id": "xhXPbpjhOZWT"
      },
      "source": [
        "## Extracting features of 2020 movies from Wikipedia"
      ]
    },
    {
      "cell_type": "code",
      "execution_count": 2,
      "metadata": {
        "id": "1o9WJASWOZWT"
      },
      "outputs": [],
      "source": [
        "link = \"https://en.wikipedia.org/wiki/List_of_American_films_of_2020\""
      ]
    },
    {
      "cell_type": "code",
      "execution_count": 3,
      "metadata": {
        "id": "TIlfZhgwOZWT"
      },
      "outputs": [],
      "source": [
        "source = urllib.request.urlopen(link).read()\n",
        "soup = bs.BeautifulSoup(source,'lxml')"
      ]
    },
    {
      "cell_type": "code",
      "execution_count": 4,
      "metadata": {
        "id": "LFytQ2MaOZWT"
      },
      "outputs": [],
      "source": [
        "tables = soup.find_all('table',class_='wikitable sortable')"
      ]
    },
    {
      "cell_type": "code",
      "execution_count": 5,
      "metadata": {
        "colab": {
          "base_uri": "https://localhost:8080/"
        },
        "id": "CdSLuBzGOZWT",
        "outputId": "a59c27fc-00d2-4acd-e5c8-3dd746d78baa"
      },
      "outputs": [
        {
          "data": {
            "text/plain": [
              "4"
            ]
          },
          "execution_count": 5,
          "metadata": {},
          "output_type": "execute_result"
        }
      ],
      "source": [
        "len(tables)"
      ]
    },
    {
      "cell_type": "code",
      "execution_count": 6,
      "metadata": {
        "colab": {
          "base_uri": "https://localhost:8080/"
        },
        "id": "VoX7c9O-OZWU",
        "outputId": "78637bfa-e750-4c01-df0a-c791c80097b3"
      },
      "outputs": [
        {
          "data": {
            "text/plain": [
              "bs4.element.Tag"
            ]
          },
          "execution_count": 6,
          "metadata": {},
          "output_type": "execute_result"
        }
      ],
      "source": [
        "type(tables[0])"
      ]
    },
    {
      "cell_type": "code",
      "execution_count": 7,
      "metadata": {
        "id": "1y2cECOMOZWU"
      },
      "outputs": [],
      "source": [
        "df1 = pd.read_html(str(tables[0]))[0]\n",
        "df2 = pd.read_html(str(tables[1]))[0]\n",
        "df3 = pd.read_html(str(tables[2]))[0]\n",
        "df4 = pd.read_html(str(tables[3]).replace(\"'1\\\"\\'\",'\"1\"'))[0] # avoided \"ValueError: invalid literal for int() with base 10: '1\"'"
      ]
    },
    {
      "cell_type": "code",
      "execution_count": 8,
      "metadata": {
        "id": "t4MN1gZbOZWU"
      },
      "outputs": [
        {
          "name": "stderr",
          "output_type": "stream",
          "text": [
            "C:\\Users\\hrith\\AppData\\Local\\Temp\\ipykernel_16300\\1752420719.py:1: FutureWarning: The frame.append method is deprecated and will be removed from pandas in a future version. Use pandas.concat instead.\n",
            "  df = df1.append(df2.append(df3.append(df4,ignore_index=True),ignore_index=True),ignore_index=True)\n"
          ]
        }
      ],
      "source": [
        "df = df1.append(df2.append(df3.append(df4,ignore_index=True),ignore_index=True),ignore_index=True)"
      ]
    },
    {
      "cell_type": "code",
      "execution_count": 9,
      "metadata": {
        "colab": {
          "base_uri": "https://localhost:8080/",
          "height": 406
        },
        "id": "4CCunB-rOZWU",
        "outputId": "a4d69bcd-088c-4655-a445-e8ebafdb10e6"
      },
      "outputs": [
        {
          "data": {
            "text/html": [
              "<div>\n",
              "<style scoped>\n",
              "    .dataframe tbody tr th:only-of-type {\n",
              "        vertical-align: middle;\n",
              "    }\n",
              "\n",
              "    .dataframe tbody tr th {\n",
              "        vertical-align: top;\n",
              "    }\n",
              "\n",
              "    .dataframe thead th {\n",
              "        text-align: right;\n",
              "    }\n",
              "</style>\n",
              "<table border=\"1\" class=\"dataframe\">\n",
              "  <thead>\n",
              "    <tr style=\"text-align: right;\">\n",
              "      <th></th>\n",
              "      <th>Opening</th>\n",
              "      <th>Opening.1</th>\n",
              "      <th>Title</th>\n",
              "      <th>Production company</th>\n",
              "      <th>Cast and crew</th>\n",
              "      <th>.mw-parser-output .tooltip-dotted{border-bottom:1px dotted;cursor:help}Ref.</th>\n",
              "      <th>Ref.</th>\n",
              "    </tr>\n",
              "  </thead>\n",
              "  <tbody>\n",
              "    <tr>\n",
              "      <th>0</th>\n",
              "      <td>JANUARY</td>\n",
              "      <td>3</td>\n",
              "      <td>The Grudge</td>\n",
              "      <td>Screen Gems / Stage 6 Films / Ghost House Pict...</td>\n",
              "      <td>Nicolas Pesce (director/screenplay); Andrea Ri...</td>\n",
              "      <td>[2]</td>\n",
              "      <td>NaN</td>\n",
              "    </tr>\n",
              "    <tr>\n",
              "      <th>1</th>\n",
              "      <td>JANUARY</td>\n",
              "      <td>10</td>\n",
              "      <td>Underwater</td>\n",
              "      <td>20th Century Fox / TSG Entertainment / Chernin...</td>\n",
              "      <td>William Eubank (director); Brian Duffield, Ada...</td>\n",
              "      <td>[3]</td>\n",
              "      <td>NaN</td>\n",
              "    </tr>\n",
              "    <tr>\n",
              "      <th>2</th>\n",
              "      <td>JANUARY</td>\n",
              "      <td>10</td>\n",
              "      <td>Like a Boss</td>\n",
              "      <td>Paramount Pictures / Artists First</td>\n",
              "      <td>Miguel Arteta (director); Sam Pitman, Adam Col...</td>\n",
              "      <td>[4]</td>\n",
              "      <td>NaN</td>\n",
              "    </tr>\n",
              "    <tr>\n",
              "      <th>3</th>\n",
              "      <td>JANUARY</td>\n",
              "      <td>10</td>\n",
              "      <td>Three Christs</td>\n",
              "      <td>IFC Films</td>\n",
              "      <td>Jon Avnet (director/screenplay); Eric Nazarian...</td>\n",
              "      <td>NaN</td>\n",
              "      <td>NaN</td>\n",
              "    </tr>\n",
              "    <tr>\n",
              "      <th>4</th>\n",
              "      <td>JANUARY</td>\n",
              "      <td>10</td>\n",
              "      <td>Inherit the Viper</td>\n",
              "      <td>Barry Films / Tycor International Film Company</td>\n",
              "      <td>Anthony Jerjen (director); Andrew Crabtree (sc...</td>\n",
              "      <td>[5]</td>\n",
              "      <td>NaN</td>\n",
              "    </tr>\n",
              "    <tr>\n",
              "      <th>...</th>\n",
              "      <td>...</td>\n",
              "      <td>...</td>\n",
              "      <td>...</td>\n",
              "      <td>...</td>\n",
              "      <td>...</td>\n",
              "      <td>...</td>\n",
              "      <td>...</td>\n",
              "    </tr>\n",
              "    <tr>\n",
              "      <th>268</th>\n",
              "      <td>DECEMBER</td>\n",
              "      <td>25</td>\n",
              "      <td>We Can Be Heroes</td>\n",
              "      <td>Netflix / Troublemaker Studios / Double R Prod...</td>\n",
              "      <td>Robert Rodriguez (director/screenplay); Priyan...</td>\n",
              "      <td>NaN</td>\n",
              "      <td>[239]</td>\n",
              "    </tr>\n",
              "    <tr>\n",
              "      <th>269</th>\n",
              "      <td>DECEMBER</td>\n",
              "      <td>25</td>\n",
              "      <td>News of the World</td>\n",
              "      <td>Universal Pictures / Perfect World Pictures</td>\n",
              "      <td>Paul Greengrass (director/screenplay); Luke Da...</td>\n",
              "      <td>NaN</td>\n",
              "      <td>[240]</td>\n",
              "    </tr>\n",
              "    <tr>\n",
              "      <th>270</th>\n",
              "      <td>DECEMBER</td>\n",
              "      <td>25</td>\n",
              "      <td>One Night in Miami...</td>\n",
              "      <td>Amazon Studios</td>\n",
              "      <td>Regina King (director); Kemp Powers (screenpla...</td>\n",
              "      <td>NaN</td>\n",
              "      <td>[241]</td>\n",
              "    </tr>\n",
              "    <tr>\n",
              "      <th>271</th>\n",
              "      <td>DECEMBER</td>\n",
              "      <td>25</td>\n",
              "      <td>Promising Young Woman</td>\n",
              "      <td>Focus Features / FilmNation Entertainment</td>\n",
              "      <td>Emerald Fennell (director/screenplay); Carey M...</td>\n",
              "      <td>NaN</td>\n",
              "      <td>[242]</td>\n",
              "    </tr>\n",
              "    <tr>\n",
              "      <th>272</th>\n",
              "      <td>DECEMBER</td>\n",
              "      <td>30</td>\n",
              "      <td>Pieces of a Woman</td>\n",
              "      <td>Netflix / Bron Studios</td>\n",
              "      <td>Kornél Mundruczó (director); Kata Wéber (scree...</td>\n",
              "      <td>NaN</td>\n",
              "      <td>[243]</td>\n",
              "    </tr>\n",
              "  </tbody>\n",
              "</table>\n",
              "<p>273 rows × 7 columns</p>\n",
              "</div>"
            ],
            "text/plain": [
              "      Opening  Opening.1                  Title  \\\n",
              "0     JANUARY          3             The Grudge   \n",
              "1     JANUARY         10             Underwater   \n",
              "2     JANUARY         10            Like a Boss   \n",
              "3     JANUARY         10          Three Christs   \n",
              "4     JANUARY         10      Inherit the Viper   \n",
              "..        ...        ...                    ...   \n",
              "268  DECEMBER         25       We Can Be Heroes   \n",
              "269  DECEMBER         25      News of the World   \n",
              "270  DECEMBER         25  One Night in Miami...   \n",
              "271  DECEMBER         25  Promising Young Woman   \n",
              "272  DECEMBER         30      Pieces of a Woman   \n",
              "\n",
              "                                    Production company  \\\n",
              "0    Screen Gems / Stage 6 Films / Ghost House Pict...   \n",
              "1    20th Century Fox / TSG Entertainment / Chernin...   \n",
              "2                   Paramount Pictures / Artists First   \n",
              "3                                            IFC Films   \n",
              "4       Barry Films / Tycor International Film Company   \n",
              "..                                                 ...   \n",
              "268  Netflix / Troublemaker Studios / Double R Prod...   \n",
              "269        Universal Pictures / Perfect World Pictures   \n",
              "270                                     Amazon Studios   \n",
              "271          Focus Features / FilmNation Entertainment   \n",
              "272                             Netflix / Bron Studios   \n",
              "\n",
              "                                         Cast and crew  \\\n",
              "0    Nicolas Pesce (director/screenplay); Andrea Ri...   \n",
              "1    William Eubank (director); Brian Duffield, Ada...   \n",
              "2    Miguel Arteta (director); Sam Pitman, Adam Col...   \n",
              "3    Jon Avnet (director/screenplay); Eric Nazarian...   \n",
              "4    Anthony Jerjen (director); Andrew Crabtree (sc...   \n",
              "..                                                 ...   \n",
              "268  Robert Rodriguez (director/screenplay); Priyan...   \n",
              "269  Paul Greengrass (director/screenplay); Luke Da...   \n",
              "270  Regina King (director); Kemp Powers (screenpla...   \n",
              "271  Emerald Fennell (director/screenplay); Carey M...   \n",
              "272  Kornél Mundruczó (director); Kata Wéber (scree...   \n",
              "\n",
              "    .mw-parser-output .tooltip-dotted{border-bottom:1px dotted;cursor:help}Ref.  \\\n",
              "0                                                  [2]                            \n",
              "1                                                  [3]                            \n",
              "2                                                  [4]                            \n",
              "3                                                  NaN                            \n",
              "4                                                  [5]                            \n",
              "..                                                 ...                            \n",
              "268                                                NaN                            \n",
              "269                                                NaN                            \n",
              "270                                                NaN                            \n",
              "271                                                NaN                            \n",
              "272                                                NaN                            \n",
              "\n",
              "      Ref.  \n",
              "0      NaN  \n",
              "1      NaN  \n",
              "2      NaN  \n",
              "3      NaN  \n",
              "4      NaN  \n",
              "..     ...  \n",
              "268  [239]  \n",
              "269  [240]  \n",
              "270  [241]  \n",
              "271  [242]  \n",
              "272  [243]  \n",
              "\n",
              "[273 rows x 7 columns]"
            ]
          },
          "execution_count": 9,
          "metadata": {},
          "output_type": "execute_result"
        }
      ],
      "source": [
        "df"
      ]
    },
    {
      "cell_type": "code",
      "execution_count": 12,
      "metadata": {
        "id": "9enI6QkuOZWV"
      },
      "outputs": [],
      "source": [
        "df_2020 = df[['Title','Cast and crew']]"
      ]
    },
    {
      "cell_type": "code",
      "execution_count": 13,
      "metadata": {
        "colab": {
          "base_uri": "https://localhost:8080/",
          "height": 406
        },
        "id": "RT0jPJQQOZWV",
        "outputId": "2d6ab58f-996f-4099-e7bb-3e29abadf43c"
      },
      "outputs": [
        {
          "data": {
            "text/html": [
              "<div>\n",
              "<style scoped>\n",
              "    .dataframe tbody tr th:only-of-type {\n",
              "        vertical-align: middle;\n",
              "    }\n",
              "\n",
              "    .dataframe tbody tr th {\n",
              "        vertical-align: top;\n",
              "    }\n",
              "\n",
              "    .dataframe thead th {\n",
              "        text-align: right;\n",
              "    }\n",
              "</style>\n",
              "<table border=\"1\" class=\"dataframe\">\n",
              "  <thead>\n",
              "    <tr style=\"text-align: right;\">\n",
              "      <th></th>\n",
              "      <th>Title</th>\n",
              "      <th>Cast and crew</th>\n",
              "    </tr>\n",
              "  </thead>\n",
              "  <tbody>\n",
              "    <tr>\n",
              "      <th>0</th>\n",
              "      <td>The Grudge</td>\n",
              "      <td>Nicolas Pesce (director/screenplay); Andrea Ri...</td>\n",
              "    </tr>\n",
              "    <tr>\n",
              "      <th>1</th>\n",
              "      <td>Underwater</td>\n",
              "      <td>William Eubank (director); Brian Duffield, Ada...</td>\n",
              "    </tr>\n",
              "    <tr>\n",
              "      <th>2</th>\n",
              "      <td>Like a Boss</td>\n",
              "      <td>Miguel Arteta (director); Sam Pitman, Adam Col...</td>\n",
              "    </tr>\n",
              "    <tr>\n",
              "      <th>3</th>\n",
              "      <td>Three Christs</td>\n",
              "      <td>Jon Avnet (director/screenplay); Eric Nazarian...</td>\n",
              "    </tr>\n",
              "    <tr>\n",
              "      <th>4</th>\n",
              "      <td>Inherit the Viper</td>\n",
              "      <td>Anthony Jerjen (director); Andrew Crabtree (sc...</td>\n",
              "    </tr>\n",
              "    <tr>\n",
              "      <th>...</th>\n",
              "      <td>...</td>\n",
              "      <td>...</td>\n",
              "    </tr>\n",
              "    <tr>\n",
              "      <th>268</th>\n",
              "      <td>We Can Be Heroes</td>\n",
              "      <td>Robert Rodriguez (director/screenplay); Priyan...</td>\n",
              "    </tr>\n",
              "    <tr>\n",
              "      <th>269</th>\n",
              "      <td>News of the World</td>\n",
              "      <td>Paul Greengrass (director/screenplay); Luke Da...</td>\n",
              "    </tr>\n",
              "    <tr>\n",
              "      <th>270</th>\n",
              "      <td>One Night in Miami...</td>\n",
              "      <td>Regina King (director); Kemp Powers (screenpla...</td>\n",
              "    </tr>\n",
              "    <tr>\n",
              "      <th>271</th>\n",
              "      <td>Promising Young Woman</td>\n",
              "      <td>Emerald Fennell (director/screenplay); Carey M...</td>\n",
              "    </tr>\n",
              "    <tr>\n",
              "      <th>272</th>\n",
              "      <td>Pieces of a Woman</td>\n",
              "      <td>Kornél Mundruczó (director); Kata Wéber (scree...</td>\n",
              "    </tr>\n",
              "  </tbody>\n",
              "</table>\n",
              "<p>273 rows × 2 columns</p>\n",
              "</div>"
            ],
            "text/plain": [
              "                     Title                                      Cast and crew\n",
              "0               The Grudge  Nicolas Pesce (director/screenplay); Andrea Ri...\n",
              "1               Underwater  William Eubank (director); Brian Duffield, Ada...\n",
              "2              Like a Boss  Miguel Arteta (director); Sam Pitman, Adam Col...\n",
              "3            Three Christs  Jon Avnet (director/screenplay); Eric Nazarian...\n",
              "4        Inherit the Viper  Anthony Jerjen (director); Andrew Crabtree (sc...\n",
              "..                     ...                                                ...\n",
              "268       We Can Be Heroes  Robert Rodriguez (director/screenplay); Priyan...\n",
              "269      News of the World  Paul Greengrass (director/screenplay); Luke Da...\n",
              "270  One Night in Miami...  Regina King (director); Kemp Powers (screenpla...\n",
              "271  Promising Young Woman  Emerald Fennell (director/screenplay); Carey M...\n",
              "272      Pieces of a Woman  Kornél Mundruczó (director); Kata Wéber (scree...\n",
              "\n",
              "[273 rows x 2 columns]"
            ]
          },
          "execution_count": 13,
          "metadata": {},
          "output_type": "execute_result"
        }
      ],
      "source": [
        "df_2020"
      ]
    },
    {
      "cell_type": "code",
      "execution_count": null,
      "metadata": {
        "colab": {
          "base_uri": "https://localhost:8080/"
        },
        "id": "KYTIVryiOkeW",
        "outputId": "629f16ee-2aa7-4b7f-8393-09afdefef5d5"
      },
      "outputs": [],
      "source": []
    },
    {
      "cell_type": "code",
      "execution_count": 15,
      "metadata": {
        "id": "61XvcEzPOZWV"
      },
      "outputs": [],
      "source": [
        "from tmdbv3api import TMDb\n",
        "import json\n",
        "import requests\n",
        "tmdb = TMDb()\n",
        "tmdb.api_key = 'c07fd8868e8d7e2d343b2ddb3295c70d'"
      ]
    },
    {
      "cell_type": "code",
      "execution_count": 41,
      "metadata": {
        "id": "_4q66M86OfgF"
      },
      "outputs": [],
      "source": [
        "from tmdbv3api import Movie\n",
        "tmdb_movie = Movie() \n"
      ]
    },
    {
      "cell_type": "code",
      "execution_count": 42,
      "metadata": {
        "colab": {
          "base_uri": "https://localhost:8080/"
        },
        "id": "uSjX4AsmOZWV",
        "outputId": "da21d28b-1f7a-4171-8b87-2eabcc897a8d",
        "scrolled": true
      },
      "outputs": [],
      "source": [
        "# df_2020['genres'] = df_2020['Title'].apply(lambda x: get_genre(str(x)))\n"
      ]
    },
    {
      "cell_type": "code",
      "execution_count": 43,
      "metadata": {
        "colab": {
          "base_uri": "https://localhost:8080/",
          "height": 406
        },
        "id": "aiwOqJZMOZWV",
        "outputId": "032dfad5-985e-4d24-9fed-ed92c9edfba3"
      },
      "outputs": [
        {
          "data": {
            "text/html": [
              "<div>\n",
              "<style scoped>\n",
              "    .dataframe tbody tr th:only-of-type {\n",
              "        vertical-align: middle;\n",
              "    }\n",
              "\n",
              "    .dataframe tbody tr th {\n",
              "        vertical-align: top;\n",
              "    }\n",
              "\n",
              "    .dataframe thead th {\n",
              "        text-align: right;\n",
              "    }\n",
              "</style>\n",
              "<table border=\"1\" class=\"dataframe\">\n",
              "  <thead>\n",
              "    <tr style=\"text-align: right;\">\n",
              "      <th></th>\n",
              "      <th>Title</th>\n",
              "      <th>Cast and crew</th>\n",
              "      <th>director_name</th>\n",
              "      <th>actor_1_name</th>\n",
              "      <th>actor_2_name</th>\n",
              "    </tr>\n",
              "  </thead>\n",
              "  <tbody>\n",
              "    <tr>\n",
              "      <th>0</th>\n",
              "      <td>The Grudge</td>\n",
              "      <td>Nicolas Pesce (director/screenplay); Andrea Ri...</td>\n",
              "      <td>Nicolas Pesce</td>\n",
              "      <td>Andrea Riseborough</td>\n",
              "      <td>Demián Bichir</td>\n",
              "    </tr>\n",
              "    <tr>\n",
              "      <th>1</th>\n",
              "      <td>Underwater</td>\n",
              "      <td>William Eubank (director); Brian Duffield, Ada...</td>\n",
              "      <td>William Eubank</td>\n",
              "      <td>Kristen Stewart</td>\n",
              "      <td>Vincent Cassel</td>\n",
              "    </tr>\n",
              "    <tr>\n",
              "      <th>2</th>\n",
              "      <td>Like a Boss</td>\n",
              "      <td>Miguel Arteta (director); Sam Pitman, Adam Col...</td>\n",
              "      <td>Miguel Arteta</td>\n",
              "      <td>Tiffany Haddish</td>\n",
              "      <td>Rose Byrne</td>\n",
              "    </tr>\n",
              "    <tr>\n",
              "      <th>3</th>\n",
              "      <td>Three Christs</td>\n",
              "      <td>Jon Avnet (director/screenplay); Eric Nazarian...</td>\n",
              "      <td>Jon Avnet</td>\n",
              "      <td>Richard Gere</td>\n",
              "      <td>Peter Dinklage</td>\n",
              "    </tr>\n",
              "    <tr>\n",
              "      <th>4</th>\n",
              "      <td>Inherit the Viper</td>\n",
              "      <td>Anthony Jerjen (director); Andrew Crabtree (sc...</td>\n",
              "      <td>Anthony Jerjen</td>\n",
              "      <td>Josh Hartnett</td>\n",
              "      <td>Margarita Levieva</td>\n",
              "    </tr>\n",
              "    <tr>\n",
              "      <th>...</th>\n",
              "      <td>...</td>\n",
              "      <td>...</td>\n",
              "      <td>...</td>\n",
              "      <td>...</td>\n",
              "      <td>...</td>\n",
              "    </tr>\n",
              "    <tr>\n",
              "      <th>268</th>\n",
              "      <td>We Can Be Heroes</td>\n",
              "      <td>Robert Rodriguez (director/screenplay); Priyan...</td>\n",
              "      <td>Robert Rodriguez</td>\n",
              "      <td>Priyanka Chopra Jonas</td>\n",
              "      <td>Pedro Pascal</td>\n",
              "    </tr>\n",
              "    <tr>\n",
              "      <th>269</th>\n",
              "      <td>News of the World</td>\n",
              "      <td>Paul Greengrass (director/screenplay); Luke Da...</td>\n",
              "      <td>Paul Greengrass</td>\n",
              "      <td>Tom Hanks</td>\n",
              "      <td>Helena Zengel</td>\n",
              "    </tr>\n",
              "    <tr>\n",
              "      <th>270</th>\n",
              "      <td>One Night in Miami...</td>\n",
              "      <td>Regina King (director); Kemp Powers (screenpla...</td>\n",
              "      <td>Regina King</td>\n",
              "      <td>Kingsley Ben-Adir</td>\n",
              "      <td>Eli Goree</td>\n",
              "    </tr>\n",
              "    <tr>\n",
              "      <th>271</th>\n",
              "      <td>Promising Young Woman</td>\n",
              "      <td>Emerald Fennell (director/screenplay); Carey M...</td>\n",
              "      <td>Emerald Fennell</td>\n",
              "      <td>Carey Mulligan</td>\n",
              "      <td>Bo Burnham</td>\n",
              "    </tr>\n",
              "    <tr>\n",
              "      <th>272</th>\n",
              "      <td>Pieces of a Woman</td>\n",
              "      <td>Kornél Mundruczó (director); Kata Wéber (scree...</td>\n",
              "      <td>Kornél Mundruczó</td>\n",
              "      <td>Vanessa Kirby</td>\n",
              "      <td>Shia LaBeouf</td>\n",
              "    </tr>\n",
              "  </tbody>\n",
              "</table>\n",
              "<p>273 rows × 5 columns</p>\n",
              "</div>"
            ],
            "text/plain": [
              "                     Title                                      Cast and crew  \\\n",
              "0               The Grudge  Nicolas Pesce (director/screenplay); Andrea Ri...   \n",
              "1               Underwater  William Eubank (director); Brian Duffield, Ada...   \n",
              "2              Like a Boss  Miguel Arteta (director); Sam Pitman, Adam Col...   \n",
              "3            Three Christs  Jon Avnet (director/screenplay); Eric Nazarian...   \n",
              "4        Inherit the Viper  Anthony Jerjen (director); Andrew Crabtree (sc...   \n",
              "..                     ...                                                ...   \n",
              "268       We Can Be Heroes  Robert Rodriguez (director/screenplay); Priyan...   \n",
              "269      News of the World  Paul Greengrass (director/screenplay); Luke Da...   \n",
              "270  One Night in Miami...  Regina King (director); Kemp Powers (screenpla...   \n",
              "271  Promising Young Woman  Emerald Fennell (director/screenplay); Carey M...   \n",
              "272      Pieces of a Woman  Kornél Mundruczó (director); Kata Wéber (scree...   \n",
              "\n",
              "        director_name           actor_1_name       actor_2_name  \n",
              "0       Nicolas Pesce     Andrea Riseborough      Demián Bichir  \n",
              "1      William Eubank        Kristen Stewart     Vincent Cassel  \n",
              "2       Miguel Arteta        Tiffany Haddish         Rose Byrne  \n",
              "3           Jon Avnet           Richard Gere     Peter Dinklage  \n",
              "4      Anthony Jerjen          Josh Hartnett  Margarita Levieva  \n",
              "..                ...                    ...                ...  \n",
              "268  Robert Rodriguez  Priyanka Chopra Jonas       Pedro Pascal  \n",
              "269   Paul Greengrass              Tom Hanks      Helena Zengel  \n",
              "270       Regina King      Kingsley Ben-Adir          Eli Goree  \n",
              "271   Emerald Fennell         Carey Mulligan         Bo Burnham  \n",
              "272  Kornél Mundruczó          Vanessa Kirby       Shia LaBeouf  \n",
              "\n",
              "[273 rows x 5 columns]"
            ]
          },
          "execution_count": 43,
          "metadata": {},
          "output_type": "execute_result"
        }
      ],
      "source": [
        "df_2020"
      ]
    },
    {
      "cell_type": "code",
      "execution_count": 44,
      "metadata": {
        "id": "GcqUuFyiOZWW"
      },
      "outputs": [],
      "source": [
        "def get_director(x):\n",
        "    if \" (director)\" in x:\n",
        "        return x.split(\" (director)\")[0]\n",
        "    elif \" (directors)\" in x:\n",
        "        return x.split(\" (directors)\")[0]\n",
        "    else:\n",
        "        return x.split(\" (director/screenplay)\")[0]"
      ]
    },
    {
      "cell_type": "code",
      "execution_count": 45,
      "metadata": {
        "colab": {
          "base_uri": "https://localhost:8080/"
        },
        "id": "A7RzXkBQOZWW",
        "outputId": "161deb48-6037-468b-c4b4-44cd51d0efc1"
      },
      "outputs": [
        {
          "name": "stderr",
          "output_type": "stream",
          "text": [
            "C:\\Users\\hrith\\AppData\\Local\\Temp\\ipykernel_16300\\3848435694.py:1: SettingWithCopyWarning: \n",
            "A value is trying to be set on a copy of a slice from a DataFrame.\n",
            "Try using .loc[row_indexer,col_indexer] = value instead\n",
            "\n",
            "See the caveats in the documentation: https://pandas.pydata.org/pandas-docs/stable/user_guide/indexing.html#returning-a-view-versus-a-copy\n",
            "  df_2020['director_name'] = df_2020['Cast and crew'].map(lambda x: get_director(str(x)))\n"
          ]
        }
      ],
      "source": [
        "df_2020['director_name'] = df_2020['Cast and crew'].map(lambda x: get_director(str(x)))"
      ]
    },
    {
      "cell_type": "code",
      "execution_count": 46,
      "metadata": {
        "id": "wwBWFgBSOZWW"
      },
      "outputs": [],
      "source": [
        "def get_actor1(x):\n",
        "    return ((x.split(\"screenplay); \")[-1]).split(\", \")[0])"
      ]
    },
    {
      "cell_type": "code",
      "execution_count": 47,
      "metadata": {
        "colab": {
          "base_uri": "https://localhost:8080/"
        },
        "id": "gxr9Y4IJOZWW",
        "outputId": "68904c09-7d50-424d-e908-804489e84d05"
      },
      "outputs": [
        {
          "name": "stderr",
          "output_type": "stream",
          "text": [
            "C:\\Users\\hrith\\AppData\\Local\\Temp\\ipykernel_16300\\3646981363.py:1: SettingWithCopyWarning: \n",
            "A value is trying to be set on a copy of a slice from a DataFrame.\n",
            "Try using .loc[row_indexer,col_indexer] = value instead\n",
            "\n",
            "See the caveats in the documentation: https://pandas.pydata.org/pandas-docs/stable/user_guide/indexing.html#returning-a-view-versus-a-copy\n",
            "  df_2020['actor_1_name'] = df_2020['Cast and crew'].map(lambda x: get_actor1(str(x)))\n"
          ]
        }
      ],
      "source": [
        "df_2020['actor_1_name'] = df_2020['Cast and crew'].map(lambda x: get_actor1(str(x)))"
      ]
    },
    {
      "cell_type": "code",
      "execution_count": 48,
      "metadata": {
        "id": "Qc7I49gVOZWX"
      },
      "outputs": [],
      "source": [
        "def get_actor2(x):\n",
        "    if len((x.split(\"screenplay); \")[-1]).split(\", \")) < 2:\n",
        "        return np.NaN\n",
        "    else:\n",
        "        return ((x.split(\"screenplay); \")[-1]).split(\", \")[1])"
      ]
    },
    {
      "cell_type": "code",
      "execution_count": 49,
      "metadata": {
        "id": "ipspWbjaOZWX"
      },
      "outputs": [
        {
          "name": "stderr",
          "output_type": "stream",
          "text": [
            "C:\\Users\\hrith\\AppData\\Local\\Temp\\ipykernel_16300\\463054939.py:1: SettingWithCopyWarning: \n",
            "A value is trying to be set on a copy of a slice from a DataFrame.\n",
            "Try using .loc[row_indexer,col_indexer] = value instead\n",
            "\n",
            "See the caveats in the documentation: https://pandas.pydata.org/pandas-docs/stable/user_guide/indexing.html#returning-a-view-versus-a-copy\n",
            "  df_2020['actor_2_name'] = df_2020['Cast and crew'].map(lambda x: get_actor2(str(x)))\n"
          ]
        }
      ],
      "source": [
        "df_2020['actor_2_name'] = df_2020['Cast and crew'].map(lambda x: get_actor2(str(x)))"
      ]
    },
    {
      "cell_type": "code",
      "execution_count": 50,
      "metadata": {
        "id": "pQmab5aiOZWX"
      },
      "outputs": [],
      "source": [
        "def get_actor3(x):\n",
        "    if len((x.split(\"screenplay); \")[-1]).split(\", \")) < 3:\n",
        "        return np.NaN\n",
        "    else:\n",
        "        return ((x.split(\"screenplay); \")[-1]).split(\", \")[2])"
      ]
    },
    {
      "cell_type": "code",
      "execution_count": 53,
      "metadata": {
        "id": "vWSs45LWOZWX"
      },
      "outputs": [
        {
          "name": "stderr",
          "output_type": "stream",
          "text": [
            "C:\\Users\\hrith\\AppData\\Local\\Temp\\ipykernel_16300\\2775163970.py:1: SettingWithCopyWarning: \n",
            "A value is trying to be set on a copy of a slice from a DataFrame.\n",
            "Try using .loc[row_indexer,col_indexer] = value instead\n",
            "\n",
            "See the caveats in the documentation: https://pandas.pydata.org/pandas-docs/stable/user_guide/indexing.html#returning-a-view-versus-a-copy\n",
            "  df_2020['actor_3_name'] = df_2020['Cast and crew'].map(lambda x: get_actor3(str(x)))\n"
          ]
        }
      ],
      "source": [
        "df_2020['actor_3_name'] = df_2020['Cast and crew'].map(lambda x: get_actor3(str(x)))"
      ]
    },
    {
      "cell_type": "code",
      "execution_count": 54,
      "metadata": {},
      "outputs": [
        {
          "ename": "TypeError",
          "evalue": "getattr(): attribute name must be string",
          "output_type": "error",
          "traceback": [
            "\u001b[1;31m---------------------------------------------------------------------------\u001b[0m",
            "\u001b[1;31mTypeError\u001b[0m                                 Traceback (most recent call last)",
            "\u001b[1;32mh:\\mlproject\\movie_recommender\\AJAX-Movie-Recommendation-System-with-Sentiment-Analysis\\.ipynb_checkpoints\\preprocessing_4.ipynb Cell 26\u001b[0m in \u001b[0;36m<cell line: 19>\u001b[1;34m()\u001b[0m\n\u001b[0;32m     <a href='vscode-notebook-cell:/h%3A/mlproject/movie_recommender/AJAX-Movie-Recommendation-System-with-Sentiment-Analysis/.ipynb_checkpoints/preprocessing_4.ipynb#X55sZmlsZQ%3D%3D?line=15'>16</a>\u001b[0m             \u001b[39mreturn\u001b[39;00m np\u001b[39m.\u001b[39mNaN\n\u001b[0;32m     <a href='vscode-notebook-cell:/h%3A/mlproject/movie_recommender/AJAX-Movie-Recommendation-System-with-Sentiment-Analysis/.ipynb_checkpoints/preprocessing_4.ipynb#X55sZmlsZQ%3D%3D?line=17'>18</a>\u001b[0m \u001b[39m# Now use the function to create the 'genres' column\u001b[39;00m\n\u001b[1;32m---> <a href='vscode-notebook-cell:/h%3A/mlproject/movie_recommender/AJAX-Movie-Recommendation-System-with-Sentiment-Analysis/.ipynb_checkpoints/preprocessing_4.ipynb#X55sZmlsZQ%3D%3D?line=18'>19</a>\u001b[0m df_2020[\u001b[39m'\u001b[39m\u001b[39mgenres\u001b[39m\u001b[39m'\u001b[39m] \u001b[39m=\u001b[39m df_2020[\u001b[39m'\u001b[39;49m\u001b[39mTitle\u001b[39;49m\u001b[39m'\u001b[39;49m]\u001b[39m.\u001b[39;49mmap(\u001b[39mlambda\u001b[39;49;00m x: get_genre(\u001b[39mstr\u001b[39;49m(x)))\n",
            "File \u001b[1;32mc:\\Users\\hrith\\AppData\\Local\\Programs\\Python\\Python310\\lib\\site-packages\\pandas\\core\\series.py:4237\u001b[0m, in \u001b[0;36mSeries.map\u001b[1;34m(self, arg, na_action)\u001b[0m\n\u001b[0;32m   4162\u001b[0m \u001b[39mdef\u001b[39;00m \u001b[39mmap\u001b[39m(\u001b[39mself\u001b[39m, arg, na_action\u001b[39m=\u001b[39m\u001b[39mNone\u001b[39;00m) \u001b[39m-\u001b[39m\u001b[39m>\u001b[39m Series:\n\u001b[0;32m   4163\u001b[0m     \u001b[39m\"\"\"\u001b[39;00m\n\u001b[0;32m   4164\u001b[0m \u001b[39m    Map values of Series according to an input mapping or function.\u001b[39;00m\n\u001b[0;32m   4165\u001b[0m \n\u001b[1;32m   (...)\u001b[0m\n\u001b[0;32m   4235\u001b[0m \u001b[39m    dtype: object\u001b[39;00m\n\u001b[0;32m   4236\u001b[0m \u001b[39m    \"\"\"\u001b[39;00m\n\u001b[1;32m-> 4237\u001b[0m     new_values \u001b[39m=\u001b[39m \u001b[39mself\u001b[39;49m\u001b[39m.\u001b[39;49m_map_values(arg, na_action\u001b[39m=\u001b[39;49mna_action)\n\u001b[0;32m   4238\u001b[0m     \u001b[39mreturn\u001b[39;00m \u001b[39mself\u001b[39m\u001b[39m.\u001b[39m_constructor(new_values, index\u001b[39m=\u001b[39m\u001b[39mself\u001b[39m\u001b[39m.\u001b[39mindex)\u001b[39m.\u001b[39m__finalize__(\n\u001b[0;32m   4239\u001b[0m         \u001b[39mself\u001b[39m, method\u001b[39m=\u001b[39m\u001b[39m\"\u001b[39m\u001b[39mmap\u001b[39m\u001b[39m\"\u001b[39m\n\u001b[0;32m   4240\u001b[0m     )\n",
            "File \u001b[1;32mc:\\Users\\hrith\\AppData\\Local\\Programs\\Python\\Python310\\lib\\site-packages\\pandas\\core\\base.py:880\u001b[0m, in \u001b[0;36mIndexOpsMixin._map_values\u001b[1;34m(self, mapper, na_action)\u001b[0m\n\u001b[0;32m    877\u001b[0m         \u001b[39mraise\u001b[39;00m \u001b[39mValueError\u001b[39;00m(msg)\n\u001b[0;32m    879\u001b[0m \u001b[39m# mapper is a function\u001b[39;00m\n\u001b[1;32m--> 880\u001b[0m new_values \u001b[39m=\u001b[39m map_f(values, mapper)\n\u001b[0;32m    882\u001b[0m \u001b[39mreturn\u001b[39;00m new_values\n",
            "File \u001b[1;32mc:\\Users\\hrith\\AppData\\Local\\Programs\\Python\\Python310\\lib\\site-packages\\pandas\\_libs\\lib.pyx:2870\u001b[0m, in \u001b[0;36mpandas._libs.lib.map_infer\u001b[1;34m()\u001b[0m\n",
            "\u001b[1;32mh:\\mlproject\\movie_recommender\\AJAX-Movie-Recommendation-System-with-Sentiment-Analysis\\.ipynb_checkpoints\\preprocessing_4.ipynb Cell 26\u001b[0m in \u001b[0;36m<lambda>\u001b[1;34m(x)\u001b[0m\n\u001b[0;32m     <a href='vscode-notebook-cell:/h%3A/mlproject/movie_recommender/AJAX-Movie-Recommendation-System-with-Sentiment-Analysis/.ipynb_checkpoints/preprocessing_4.ipynb#X55sZmlsZQ%3D%3D?line=15'>16</a>\u001b[0m             \u001b[39mreturn\u001b[39;00m np\u001b[39m.\u001b[39mNaN\n\u001b[0;32m     <a href='vscode-notebook-cell:/h%3A/mlproject/movie_recommender/AJAX-Movie-Recommendation-System-with-Sentiment-Analysis/.ipynb_checkpoints/preprocessing_4.ipynb#X55sZmlsZQ%3D%3D?line=17'>18</a>\u001b[0m \u001b[39m# Now use the function to create the 'genres' column\u001b[39;00m\n\u001b[1;32m---> <a href='vscode-notebook-cell:/h%3A/mlproject/movie_recommender/AJAX-Movie-Recommendation-System-with-Sentiment-Analysis/.ipynb_checkpoints/preprocessing_4.ipynb#X55sZmlsZQ%3D%3D?line=18'>19</a>\u001b[0m df_2020[\u001b[39m'\u001b[39m\u001b[39mgenres\u001b[39m\u001b[39m'\u001b[39m] \u001b[39m=\u001b[39m df_2020[\u001b[39m'\u001b[39m\u001b[39mTitle\u001b[39m\u001b[39m'\u001b[39m]\u001b[39m.\u001b[39mmap(\u001b[39mlambda\u001b[39;00m x: get_genre(\u001b[39mstr\u001b[39;49m(x)))\n",
            "\u001b[1;32mh:\\mlproject\\movie_recommender\\AJAX-Movie-Recommendation-System-with-Sentiment-Analysis\\.ipynb_checkpoints\\preprocessing_4.ipynb Cell 26\u001b[0m in \u001b[0;36mget_genre\u001b[1;34m(x)\u001b[0m\n\u001b[0;32m      <a href='vscode-notebook-cell:/h%3A/mlproject/movie_recommender/AJAX-Movie-Recommendation-System-with-Sentiment-Analysis/.ipynb_checkpoints/preprocessing_4.ipynb#X55sZmlsZQ%3D%3D?line=4'>5</a>\u001b[0m     \u001b[39mreturn\u001b[39;00m np\u001b[39m.\u001b[39mNaN\n\u001b[0;32m      <a href='vscode-notebook-cell:/h%3A/mlproject/movie_recommender/AJAX-Movie-Recommendation-System-with-Sentiment-Analysis/.ipynb_checkpoints/preprocessing_4.ipynb#X55sZmlsZQ%3D%3D?line=5'>6</a>\u001b[0m \u001b[39melse\u001b[39;00m:\n\u001b[1;32m----> <a href='vscode-notebook-cell:/h%3A/mlproject/movie_recommender/AJAX-Movie-Recommendation-System-with-Sentiment-Analysis/.ipynb_checkpoints/preprocessing_4.ipynb#X55sZmlsZQ%3D%3D?line=6'>7</a>\u001b[0m     movie_id \u001b[39m=\u001b[39m result[\u001b[39m0\u001b[39;49m]\u001b[39m.\u001b[39mid\n\u001b[0;32m      <a href='vscode-notebook-cell:/h%3A/mlproject/movie_recommender/AJAX-Movie-Recommendation-System-with-Sentiment-Analysis/.ipynb_checkpoints/preprocessing_4.ipynb#X55sZmlsZQ%3D%3D?line=7'>8</a>\u001b[0m     response \u001b[39m=\u001b[39m requests\u001b[39m.\u001b[39mget(\u001b[39m'\u001b[39m\u001b[39mhttps://api.themoviedb.org/3/movie/\u001b[39m\u001b[39m{}\u001b[39;00m\u001b[39m?api_key=\u001b[39m\u001b[39m{}\u001b[39;00m\u001b[39m'\u001b[39m\u001b[39m.\u001b[39mformat(movie_id, tmdb\u001b[39m.\u001b[39mapi_key))\n\u001b[0;32m      <a href='vscode-notebook-cell:/h%3A/mlproject/movie_recommender/AJAX-Movie-Recommendation-System-with-Sentiment-Analysis/.ipynb_checkpoints/preprocessing_4.ipynb#X55sZmlsZQ%3D%3D?line=8'>9</a>\u001b[0m     data_json \u001b[39m=\u001b[39m response\u001b[39m.\u001b[39mjson()\n",
            "File \u001b[1;32mc:\\Users\\hrith\\AppData\\Local\\Programs\\Python\\Python310\\lib\\site-packages\\tmdbv3api\\as_obj.py:47\u001b[0m, in \u001b[0;36mAsObj.__getitem__\u001b[1;34m(self, key)\u001b[0m\n\u001b[0;32m     45\u001b[0m     \u001b[39mreturn\u001b[39;00m \u001b[39mself\u001b[39m\u001b[39m.\u001b[39m_obj_list[key]\n\u001b[0;32m     46\u001b[0m \u001b[39melse\u001b[39;00m:\n\u001b[1;32m---> 47\u001b[0m     \u001b[39mreturn\u001b[39;00m \u001b[39mgetattr\u001b[39;49m(\u001b[39mself\u001b[39;49m, key)\n",
            "\u001b[1;31mTypeError\u001b[0m: getattr(): attribute name must be string"
          ]
        }
      ],
      "source": [
        "def get_genre(x):\n",
        "    genres = []\n",
        "    result = tmdb_movie.search(x)\n",
        "    if not result:\n",
        "        return np.NaN\n",
        "    else:\n",
        "        movie_id = result[0].id\n",
        "        response = requests.get('https://api.themoviedb.org/3/movie/{}?api_key={}'.format(movie_id, tmdb.api_key))\n",
        "        data_json = response.json()\n",
        "        if data_json['genres']:\n",
        "            for i in range(len(data_json['genres'])):\n",
        "                genres.append(data_json['genres'][i]['name'])\n",
        "            genre_str = \" \".join(genres)\n",
        "            return genre_str\n",
        "        else:\n",
        "            return np.NaN\n",
        "\n",
        "# Now use the function to create the 'genres' column\n",
        "df_2020['genres'] = df_2020['Title'].map(lambda x: get_genre(str(x)))\n"
      ]
    },
    {
      "cell_type": "code",
      "execution_count": 52,
      "metadata": {
        "colab": {
          "base_uri": "https://localhost:8080/",
          "height": 406
        },
        "id": "2xDIRn7DOZWX",
        "outputId": "ad8d83b3-a608-43db-eeff-53a434ab3d4f"
      },
      "outputs": [
        {
          "data": {
            "text/html": [
              "<div>\n",
              "<style scoped>\n",
              "    .dataframe tbody tr th:only-of-type {\n",
              "        vertical-align: middle;\n",
              "    }\n",
              "\n",
              "    .dataframe tbody tr th {\n",
              "        vertical-align: top;\n",
              "    }\n",
              "\n",
              "    .dataframe thead th {\n",
              "        text-align: right;\n",
              "    }\n",
              "</style>\n",
              "<table border=\"1\" class=\"dataframe\">\n",
              "  <thead>\n",
              "    <tr style=\"text-align: right;\">\n",
              "      <th></th>\n",
              "      <th>Title</th>\n",
              "      <th>Cast and crew</th>\n",
              "      <th>director_name</th>\n",
              "      <th>actor_1_name</th>\n",
              "      <th>actor_2_name</th>\n",
              "      <th>actor_3_name</th>\n",
              "    </tr>\n",
              "  </thead>\n",
              "  <tbody>\n",
              "    <tr>\n",
              "      <th>0</th>\n",
              "      <td>The Grudge</td>\n",
              "      <td>Nicolas Pesce (director/screenplay); Andrea Ri...</td>\n",
              "      <td>Nicolas Pesce</td>\n",
              "      <td>Andrea Riseborough</td>\n",
              "      <td>Demián Bichir</td>\n",
              "      <td>John Cho</td>\n",
              "    </tr>\n",
              "    <tr>\n",
              "      <th>1</th>\n",
              "      <td>Underwater</td>\n",
              "      <td>William Eubank (director); Brian Duffield, Ada...</td>\n",
              "      <td>William Eubank</td>\n",
              "      <td>Kristen Stewart</td>\n",
              "      <td>Vincent Cassel</td>\n",
              "      <td>Jessica Henwick</td>\n",
              "    </tr>\n",
              "    <tr>\n",
              "      <th>2</th>\n",
              "      <td>Like a Boss</td>\n",
              "      <td>Miguel Arteta (director); Sam Pitman, Adam Col...</td>\n",
              "      <td>Miguel Arteta</td>\n",
              "      <td>Tiffany Haddish</td>\n",
              "      <td>Rose Byrne</td>\n",
              "      <td>Salma Hayek</td>\n",
              "    </tr>\n",
              "    <tr>\n",
              "      <th>3</th>\n",
              "      <td>Three Christs</td>\n",
              "      <td>Jon Avnet (director/screenplay); Eric Nazarian...</td>\n",
              "      <td>Jon Avnet</td>\n",
              "      <td>Richard Gere</td>\n",
              "      <td>Peter Dinklage</td>\n",
              "      <td>Walton Goggins</td>\n",
              "    </tr>\n",
              "    <tr>\n",
              "      <th>4</th>\n",
              "      <td>Inherit the Viper</td>\n",
              "      <td>Anthony Jerjen (director); Andrew Crabtree (sc...</td>\n",
              "      <td>Anthony Jerjen</td>\n",
              "      <td>Josh Hartnett</td>\n",
              "      <td>Margarita Levieva</td>\n",
              "      <td>Chandler Riggs</td>\n",
              "    </tr>\n",
              "    <tr>\n",
              "      <th>...</th>\n",
              "      <td>...</td>\n",
              "      <td>...</td>\n",
              "      <td>...</td>\n",
              "      <td>...</td>\n",
              "      <td>...</td>\n",
              "      <td>...</td>\n",
              "    </tr>\n",
              "    <tr>\n",
              "      <th>268</th>\n",
              "      <td>We Can Be Heroes</td>\n",
              "      <td>Robert Rodriguez (director/screenplay); Priyan...</td>\n",
              "      <td>Robert Rodriguez</td>\n",
              "      <td>Priyanka Chopra Jonas</td>\n",
              "      <td>Pedro Pascal</td>\n",
              "      <td>YaYa Gosselin</td>\n",
              "    </tr>\n",
              "    <tr>\n",
              "      <th>269</th>\n",
              "      <td>News of the World</td>\n",
              "      <td>Paul Greengrass (director/screenplay); Luke Da...</td>\n",
              "      <td>Paul Greengrass</td>\n",
              "      <td>Tom Hanks</td>\n",
              "      <td>Helena Zengel</td>\n",
              "      <td>NaN</td>\n",
              "    </tr>\n",
              "    <tr>\n",
              "      <th>270</th>\n",
              "      <td>One Night in Miami...</td>\n",
              "      <td>Regina King (director); Kemp Powers (screenpla...</td>\n",
              "      <td>Regina King</td>\n",
              "      <td>Kingsley Ben-Adir</td>\n",
              "      <td>Eli Goree</td>\n",
              "      <td>Aldis Hodge</td>\n",
              "    </tr>\n",
              "    <tr>\n",
              "      <th>271</th>\n",
              "      <td>Promising Young Woman</td>\n",
              "      <td>Emerald Fennell (director/screenplay); Carey M...</td>\n",
              "      <td>Emerald Fennell</td>\n",
              "      <td>Carey Mulligan</td>\n",
              "      <td>Bo Burnham</td>\n",
              "      <td>Alison Brie</td>\n",
              "    </tr>\n",
              "    <tr>\n",
              "      <th>272</th>\n",
              "      <td>Pieces of a Woman</td>\n",
              "      <td>Kornél Mundruczó (director); Kata Wéber (scree...</td>\n",
              "      <td>Kornél Mundruczó</td>\n",
              "      <td>Vanessa Kirby</td>\n",
              "      <td>Shia LaBeouf</td>\n",
              "      <td>Molly Parker</td>\n",
              "    </tr>\n",
              "  </tbody>\n",
              "</table>\n",
              "<p>273 rows × 6 columns</p>\n",
              "</div>"
            ],
            "text/plain": [
              "                     Title                                      Cast and crew  \\\n",
              "0               The Grudge  Nicolas Pesce (director/screenplay); Andrea Ri...   \n",
              "1               Underwater  William Eubank (director); Brian Duffield, Ada...   \n",
              "2              Like a Boss  Miguel Arteta (director); Sam Pitman, Adam Col...   \n",
              "3            Three Christs  Jon Avnet (director/screenplay); Eric Nazarian...   \n",
              "4        Inherit the Viper  Anthony Jerjen (director); Andrew Crabtree (sc...   \n",
              "..                     ...                                                ...   \n",
              "268       We Can Be Heroes  Robert Rodriguez (director/screenplay); Priyan...   \n",
              "269      News of the World  Paul Greengrass (director/screenplay); Luke Da...   \n",
              "270  One Night in Miami...  Regina King (director); Kemp Powers (screenpla...   \n",
              "271  Promising Young Woman  Emerald Fennell (director/screenplay); Carey M...   \n",
              "272      Pieces of a Woman  Kornél Mundruczó (director); Kata Wéber (scree...   \n",
              "\n",
              "        director_name           actor_1_name       actor_2_name  \\\n",
              "0       Nicolas Pesce     Andrea Riseborough      Demián Bichir   \n",
              "1      William Eubank        Kristen Stewart     Vincent Cassel   \n",
              "2       Miguel Arteta        Tiffany Haddish         Rose Byrne   \n",
              "3           Jon Avnet           Richard Gere     Peter Dinklage   \n",
              "4      Anthony Jerjen          Josh Hartnett  Margarita Levieva   \n",
              "..                ...                    ...                ...   \n",
              "268  Robert Rodriguez  Priyanka Chopra Jonas       Pedro Pascal   \n",
              "269   Paul Greengrass              Tom Hanks      Helena Zengel   \n",
              "270       Regina King      Kingsley Ben-Adir          Eli Goree   \n",
              "271   Emerald Fennell         Carey Mulligan         Bo Burnham   \n",
              "272  Kornél Mundruczó          Vanessa Kirby       Shia LaBeouf   \n",
              "\n",
              "        actor_3_name  \n",
              "0           John Cho  \n",
              "1    Jessica Henwick  \n",
              "2        Salma Hayek  \n",
              "3     Walton Goggins  \n",
              "4     Chandler Riggs  \n",
              "..               ...  \n",
              "268    YaYa Gosselin  \n",
              "269              NaN  \n",
              "270      Aldis Hodge  \n",
              "271      Alison Brie  \n",
              "272     Molly Parker  \n",
              "\n",
              "[273 rows x 6 columns]"
            ]
          },
          "execution_count": 52,
          "metadata": {},
          "output_type": "execute_result"
        }
      ],
      "source": [
        "df_2020"
      ]
    },
    {
      "cell_type": "code",
      "execution_count": 55,
      "metadata": {
        "id": "rBUUnUtfOZWX"
      },
      "outputs": [],
      "source": [
        "df_2020 = df_2020.rename(columns={'Title':'movie_title'})"
      ]
    },
    {
      "cell_type": "code",
      "execution_count": 57,
      "metadata": {
        "id": "_WCWVlAqOZWX"
      },
      "outputs": [],
      "source": [
        "new_df20 = df_2020.loc[:,['director_name','actor_1_name','actor_2_name','actor_3_name','movie_title']]"
      ]
    },
    {
      "cell_type": "code",
      "execution_count": 58,
      "metadata": {
        "colab": {
          "base_uri": "https://localhost:8080/",
          "height": 406
        },
        "id": "i7KBDmu_OZWX",
        "outputId": "6b4de81e-b1ac-4fb0-d349-52ae7c210346"
      },
      "outputs": [
        {
          "data": {
            "text/html": [
              "<div>\n",
              "<style scoped>\n",
              "    .dataframe tbody tr th:only-of-type {\n",
              "        vertical-align: middle;\n",
              "    }\n",
              "\n",
              "    .dataframe tbody tr th {\n",
              "        vertical-align: top;\n",
              "    }\n",
              "\n",
              "    .dataframe thead th {\n",
              "        text-align: right;\n",
              "    }\n",
              "</style>\n",
              "<table border=\"1\" class=\"dataframe\">\n",
              "  <thead>\n",
              "    <tr style=\"text-align: right;\">\n",
              "      <th></th>\n",
              "      <th>director_name</th>\n",
              "      <th>actor_1_name</th>\n",
              "      <th>actor_2_name</th>\n",
              "      <th>actor_3_name</th>\n",
              "      <th>movie_title</th>\n",
              "    </tr>\n",
              "  </thead>\n",
              "  <tbody>\n",
              "    <tr>\n",
              "      <th>0</th>\n",
              "      <td>Nicolas Pesce</td>\n",
              "      <td>Andrea Riseborough</td>\n",
              "      <td>Demián Bichir</td>\n",
              "      <td>John Cho</td>\n",
              "      <td>The Grudge</td>\n",
              "    </tr>\n",
              "    <tr>\n",
              "      <th>1</th>\n",
              "      <td>William Eubank</td>\n",
              "      <td>Kristen Stewart</td>\n",
              "      <td>Vincent Cassel</td>\n",
              "      <td>Jessica Henwick</td>\n",
              "      <td>Underwater</td>\n",
              "    </tr>\n",
              "    <tr>\n",
              "      <th>2</th>\n",
              "      <td>Miguel Arteta</td>\n",
              "      <td>Tiffany Haddish</td>\n",
              "      <td>Rose Byrne</td>\n",
              "      <td>Salma Hayek</td>\n",
              "      <td>Like a Boss</td>\n",
              "    </tr>\n",
              "    <tr>\n",
              "      <th>3</th>\n",
              "      <td>Jon Avnet</td>\n",
              "      <td>Richard Gere</td>\n",
              "      <td>Peter Dinklage</td>\n",
              "      <td>Walton Goggins</td>\n",
              "      <td>Three Christs</td>\n",
              "    </tr>\n",
              "    <tr>\n",
              "      <th>4</th>\n",
              "      <td>Anthony Jerjen</td>\n",
              "      <td>Josh Hartnett</td>\n",
              "      <td>Margarita Levieva</td>\n",
              "      <td>Chandler Riggs</td>\n",
              "      <td>Inherit the Viper</td>\n",
              "    </tr>\n",
              "    <tr>\n",
              "      <th>...</th>\n",
              "      <td>...</td>\n",
              "      <td>...</td>\n",
              "      <td>...</td>\n",
              "      <td>...</td>\n",
              "      <td>...</td>\n",
              "    </tr>\n",
              "    <tr>\n",
              "      <th>268</th>\n",
              "      <td>Robert Rodriguez</td>\n",
              "      <td>Priyanka Chopra Jonas</td>\n",
              "      <td>Pedro Pascal</td>\n",
              "      <td>YaYa Gosselin</td>\n",
              "      <td>We Can Be Heroes</td>\n",
              "    </tr>\n",
              "    <tr>\n",
              "      <th>269</th>\n",
              "      <td>Paul Greengrass</td>\n",
              "      <td>Tom Hanks</td>\n",
              "      <td>Helena Zengel</td>\n",
              "      <td>NaN</td>\n",
              "      <td>News of the World</td>\n",
              "    </tr>\n",
              "    <tr>\n",
              "      <th>270</th>\n",
              "      <td>Regina King</td>\n",
              "      <td>Kingsley Ben-Adir</td>\n",
              "      <td>Eli Goree</td>\n",
              "      <td>Aldis Hodge</td>\n",
              "      <td>One Night in Miami...</td>\n",
              "    </tr>\n",
              "    <tr>\n",
              "      <th>271</th>\n",
              "      <td>Emerald Fennell</td>\n",
              "      <td>Carey Mulligan</td>\n",
              "      <td>Bo Burnham</td>\n",
              "      <td>Alison Brie</td>\n",
              "      <td>Promising Young Woman</td>\n",
              "    </tr>\n",
              "    <tr>\n",
              "      <th>272</th>\n",
              "      <td>Kornél Mundruczó</td>\n",
              "      <td>Vanessa Kirby</td>\n",
              "      <td>Shia LaBeouf</td>\n",
              "      <td>Molly Parker</td>\n",
              "      <td>Pieces of a Woman</td>\n",
              "    </tr>\n",
              "  </tbody>\n",
              "</table>\n",
              "<p>273 rows × 5 columns</p>\n",
              "</div>"
            ],
            "text/plain": [
              "        director_name           actor_1_name       actor_2_name  \\\n",
              "0       Nicolas Pesce     Andrea Riseborough      Demián Bichir   \n",
              "1      William Eubank        Kristen Stewart     Vincent Cassel   \n",
              "2       Miguel Arteta        Tiffany Haddish         Rose Byrne   \n",
              "3           Jon Avnet           Richard Gere     Peter Dinklage   \n",
              "4      Anthony Jerjen          Josh Hartnett  Margarita Levieva   \n",
              "..                ...                    ...                ...   \n",
              "268  Robert Rodriguez  Priyanka Chopra Jonas       Pedro Pascal   \n",
              "269   Paul Greengrass              Tom Hanks      Helena Zengel   \n",
              "270       Regina King      Kingsley Ben-Adir          Eli Goree   \n",
              "271   Emerald Fennell         Carey Mulligan         Bo Burnham   \n",
              "272  Kornél Mundruczó          Vanessa Kirby       Shia LaBeouf   \n",
              "\n",
              "        actor_3_name            movie_title  \n",
              "0           John Cho             The Grudge  \n",
              "1    Jessica Henwick             Underwater  \n",
              "2        Salma Hayek            Like a Boss  \n",
              "3     Walton Goggins          Three Christs  \n",
              "4     Chandler Riggs      Inherit the Viper  \n",
              "..               ...                    ...  \n",
              "268    YaYa Gosselin       We Can Be Heroes  \n",
              "269              NaN      News of the World  \n",
              "270      Aldis Hodge  One Night in Miami...  \n",
              "271      Alison Brie  Promising Young Woman  \n",
              "272     Molly Parker      Pieces of a Woman  \n",
              "\n",
              "[273 rows x 5 columns]"
            ]
          },
          "execution_count": 58,
          "metadata": {},
          "output_type": "execute_result"
        }
      ],
      "source": [
        "new_df20"
      ]
    },
    {
      "cell_type": "code",
      "execution_count": 60,
      "metadata": {
        "id": "0s7XMhqzOZWY"
      },
      "outputs": [],
      "source": [
        "new_df20['comb'] = new_df20['actor_1_name'] + ' ' + new_df20['actor_2_name'] + ' '+ new_df20['actor_3_name'] + ' '+ new_df20['director_name'] "
      ]
    },
    {
      "cell_type": "code",
      "execution_count": 61,
      "metadata": {
        "colab": {
          "base_uri": "https://localhost:8080/"
        },
        "id": "ta_KcPQJOZWY",
        "outputId": "ac6aa7b7-c156-49b2-9e95-3a76f971f5b1"
      },
      "outputs": [
        {
          "data": {
            "text/plain": [
              "director_name     0\n",
              "actor_1_name      0\n",
              "actor_2_name      5\n",
              "actor_3_name     28\n",
              "movie_title       0\n",
              "comb             28\n",
              "dtype: int64"
            ]
          },
          "execution_count": 61,
          "metadata": {},
          "output_type": "execute_result"
        }
      ],
      "source": [
        "new_df20.isna().sum()"
      ]
    },
    {
      "cell_type": "code",
      "execution_count": 62,
      "metadata": {
        "id": "DkKroG5GOZWY"
      },
      "outputs": [],
      "source": [
        "new_df20 = new_df20.dropna(how='any')"
      ]
    },
    {
      "cell_type": "code",
      "execution_count": 63,
      "metadata": {
        "colab": {
          "base_uri": "https://localhost:8080/"
        },
        "id": "YOIv1wvhOZWY",
        "outputId": "c3ad579e-16e2-4d8c-d4a0-71891d71b986"
      },
      "outputs": [
        {
          "data": {
            "text/plain": [
              "director_name    0\n",
              "actor_1_name     0\n",
              "actor_2_name     0\n",
              "actor_3_name     0\n",
              "movie_title      0\n",
              "comb             0\n",
              "dtype: int64"
            ]
          },
          "execution_count": 63,
          "metadata": {},
          "output_type": "execute_result"
        }
      ],
      "source": [
        "new_df20.isna().sum()"
      ]
    },
    {
      "cell_type": "code",
      "execution_count": 64,
      "metadata": {
        "colab": {
          "base_uri": "https://localhost:8080/"
        },
        "id": "IB3YmNWROZWY",
        "outputId": "8abccee1-4b9e-436b-de18-eb97298d73a9"
      },
      "outputs": [
        {
          "name": "stderr",
          "output_type": "stream",
          "text": [
            "C:\\Users\\hrith\\AppData\\Local\\Temp\\ipykernel_16300\\2267385682.py:1: SettingWithCopyWarning: \n",
            "A value is trying to be set on a copy of a slice from a DataFrame.\n",
            "Try using .loc[row_indexer,col_indexer] = value instead\n",
            "\n",
            "See the caveats in the documentation: https://pandas.pydata.org/pandas-docs/stable/user_guide/indexing.html#returning-a-view-versus-a-copy\n",
            "  new_df20['movie_title'] = new_df20['movie_title'].str.lower()\n"
          ]
        }
      ],
      "source": [
        "new_df20['movie_title'] = new_df20['movie_title'].str.lower()"
      ]
    },
    {
      "cell_type": "code",
      "execution_count": 65,
      "metadata": {
        "colab": {
          "base_uri": "https://localhost:8080/",
          "height": 406
        },
        "id": "3e3NnY70OZWZ",
        "outputId": "cf4351f9-93f7-40bc-cc24-ab9e45bd8358"
      },
      "outputs": [
        {
          "data": {
            "text/html": [
              "<div>\n",
              "<style scoped>\n",
              "    .dataframe tbody tr th:only-of-type {\n",
              "        vertical-align: middle;\n",
              "    }\n",
              "\n",
              "    .dataframe tbody tr th {\n",
              "        vertical-align: top;\n",
              "    }\n",
              "\n",
              "    .dataframe thead th {\n",
              "        text-align: right;\n",
              "    }\n",
              "</style>\n",
              "<table border=\"1\" class=\"dataframe\">\n",
              "  <thead>\n",
              "    <tr style=\"text-align: right;\">\n",
              "      <th></th>\n",
              "      <th>director_name</th>\n",
              "      <th>actor_1_name</th>\n",
              "      <th>actor_2_name</th>\n",
              "      <th>actor_3_name</th>\n",
              "      <th>movie_title</th>\n",
              "      <th>comb</th>\n",
              "    </tr>\n",
              "  </thead>\n",
              "  <tbody>\n",
              "    <tr>\n",
              "      <th>0</th>\n",
              "      <td>Nicolas Pesce</td>\n",
              "      <td>Andrea Riseborough</td>\n",
              "      <td>Demián Bichir</td>\n",
              "      <td>John Cho</td>\n",
              "      <td>the grudge</td>\n",
              "      <td>Andrea Riseborough Demián Bichir John Cho Nico...</td>\n",
              "    </tr>\n",
              "    <tr>\n",
              "      <th>1</th>\n",
              "      <td>William Eubank</td>\n",
              "      <td>Kristen Stewart</td>\n",
              "      <td>Vincent Cassel</td>\n",
              "      <td>Jessica Henwick</td>\n",
              "      <td>underwater</td>\n",
              "      <td>Kristen Stewart Vincent Cassel Jessica Henwick...</td>\n",
              "    </tr>\n",
              "    <tr>\n",
              "      <th>2</th>\n",
              "      <td>Miguel Arteta</td>\n",
              "      <td>Tiffany Haddish</td>\n",
              "      <td>Rose Byrne</td>\n",
              "      <td>Salma Hayek</td>\n",
              "      <td>like a boss</td>\n",
              "      <td>Tiffany Haddish Rose Byrne Salma Hayek Miguel ...</td>\n",
              "    </tr>\n",
              "    <tr>\n",
              "      <th>3</th>\n",
              "      <td>Jon Avnet</td>\n",
              "      <td>Richard Gere</td>\n",
              "      <td>Peter Dinklage</td>\n",
              "      <td>Walton Goggins</td>\n",
              "      <td>three christs</td>\n",
              "      <td>Richard Gere Peter Dinklage Walton Goggins Jon...</td>\n",
              "    </tr>\n",
              "    <tr>\n",
              "      <th>4</th>\n",
              "      <td>Anthony Jerjen</td>\n",
              "      <td>Josh Hartnett</td>\n",
              "      <td>Margarita Levieva</td>\n",
              "      <td>Chandler Riggs</td>\n",
              "      <td>inherit the viper</td>\n",
              "      <td>Josh Hartnett Margarita Levieva Chandler Riggs...</td>\n",
              "    </tr>\n",
              "    <tr>\n",
              "      <th>...</th>\n",
              "      <td>...</td>\n",
              "      <td>...</td>\n",
              "      <td>...</td>\n",
              "      <td>...</td>\n",
              "      <td>...</td>\n",
              "      <td>...</td>\n",
              "    </tr>\n",
              "    <tr>\n",
              "      <th>267</th>\n",
              "      <td>Pete Docter</td>\n",
              "      <td>Jamie Foxx</td>\n",
              "      <td>Tina Fey</td>\n",
              "      <td>Graham Norton</td>\n",
              "      <td>soul</td>\n",
              "      <td>Jamie Foxx Tina Fey Graham Norton Pete Docter</td>\n",
              "    </tr>\n",
              "    <tr>\n",
              "      <th>268</th>\n",
              "      <td>Robert Rodriguez</td>\n",
              "      <td>Priyanka Chopra Jonas</td>\n",
              "      <td>Pedro Pascal</td>\n",
              "      <td>YaYa Gosselin</td>\n",
              "      <td>we can be heroes</td>\n",
              "      <td>Priyanka Chopra Jonas Pedro Pascal YaYa Gossel...</td>\n",
              "    </tr>\n",
              "    <tr>\n",
              "      <th>270</th>\n",
              "      <td>Regina King</td>\n",
              "      <td>Kingsley Ben-Adir</td>\n",
              "      <td>Eli Goree</td>\n",
              "      <td>Aldis Hodge</td>\n",
              "      <td>one night in miami...</td>\n",
              "      <td>Kingsley Ben-Adir Eli Goree Aldis Hodge Regina...</td>\n",
              "    </tr>\n",
              "    <tr>\n",
              "      <th>271</th>\n",
              "      <td>Emerald Fennell</td>\n",
              "      <td>Carey Mulligan</td>\n",
              "      <td>Bo Burnham</td>\n",
              "      <td>Alison Brie</td>\n",
              "      <td>promising young woman</td>\n",
              "      <td>Carey Mulligan Bo Burnham Alison Brie Emerald ...</td>\n",
              "    </tr>\n",
              "    <tr>\n",
              "      <th>272</th>\n",
              "      <td>Kornél Mundruczó</td>\n",
              "      <td>Vanessa Kirby</td>\n",
              "      <td>Shia LaBeouf</td>\n",
              "      <td>Molly Parker</td>\n",
              "      <td>pieces of a woman</td>\n",
              "      <td>Vanessa Kirby Shia LaBeouf Molly Parker Kornél...</td>\n",
              "    </tr>\n",
              "  </tbody>\n",
              "</table>\n",
              "<p>245 rows × 6 columns</p>\n",
              "</div>"
            ],
            "text/plain": [
              "        director_name           actor_1_name       actor_2_name  \\\n",
              "0       Nicolas Pesce     Andrea Riseborough      Demián Bichir   \n",
              "1      William Eubank        Kristen Stewart     Vincent Cassel   \n",
              "2       Miguel Arteta        Tiffany Haddish         Rose Byrne   \n",
              "3           Jon Avnet           Richard Gere     Peter Dinklage   \n",
              "4      Anthony Jerjen          Josh Hartnett  Margarita Levieva   \n",
              "..                ...                    ...                ...   \n",
              "267       Pete Docter             Jamie Foxx           Tina Fey   \n",
              "268  Robert Rodriguez  Priyanka Chopra Jonas       Pedro Pascal   \n",
              "270       Regina King      Kingsley Ben-Adir          Eli Goree   \n",
              "271   Emerald Fennell         Carey Mulligan         Bo Burnham   \n",
              "272  Kornél Mundruczó          Vanessa Kirby       Shia LaBeouf   \n",
              "\n",
              "        actor_3_name            movie_title  \\\n",
              "0           John Cho             the grudge   \n",
              "1    Jessica Henwick             underwater   \n",
              "2        Salma Hayek            like a boss   \n",
              "3     Walton Goggins          three christs   \n",
              "4     Chandler Riggs      inherit the viper   \n",
              "..               ...                    ...   \n",
              "267    Graham Norton                   soul   \n",
              "268    YaYa Gosselin       we can be heroes   \n",
              "270      Aldis Hodge  one night in miami...   \n",
              "271      Alison Brie  promising young woman   \n",
              "272     Molly Parker      pieces of a woman   \n",
              "\n",
              "                                                  comb  \n",
              "0    Andrea Riseborough Demián Bichir John Cho Nico...  \n",
              "1    Kristen Stewart Vincent Cassel Jessica Henwick...  \n",
              "2    Tiffany Haddish Rose Byrne Salma Hayek Miguel ...  \n",
              "3    Richard Gere Peter Dinklage Walton Goggins Jon...  \n",
              "4    Josh Hartnett Margarita Levieva Chandler Riggs...  \n",
              "..                                                 ...  \n",
              "267      Jamie Foxx Tina Fey Graham Norton Pete Docter  \n",
              "268  Priyanka Chopra Jonas Pedro Pascal YaYa Gossel...  \n",
              "270  Kingsley Ben-Adir Eli Goree Aldis Hodge Regina...  \n",
              "271  Carey Mulligan Bo Burnham Alison Brie Emerald ...  \n",
              "272  Vanessa Kirby Shia LaBeouf Molly Parker Kornél...  \n",
              "\n",
              "[245 rows x 6 columns]"
            ]
          },
          "execution_count": 65,
          "metadata": {},
          "output_type": "execute_result"
        }
      ],
      "source": [
        "new_df20"
      ]
    },
    {
      "cell_type": "code",
      "execution_count": 70,
      "metadata": {
        "id": "BCf9fH_4OZWZ"
      },
      "outputs": [],
      "source": [
        "old_df = pd.read_csv('H:/mlproject/movie_recommender/AJAX-Movie-Recommendation-System-with-Sentiment-Analysis/datasets/final_data.csv')"
      ]
    },
    {
      "cell_type": "code",
      "execution_count": 71,
      "metadata": {
        "id": "ce2e426yOZWZ",
        "outputId": "7d2c0bd7-6907-4398-c385-829b04ad921e"
      },
      "outputs": [
        {
          "data": {
            "text/html": [
              "<div>\n",
              "<style scoped>\n",
              "    .dataframe tbody tr th:only-of-type {\n",
              "        vertical-align: middle;\n",
              "    }\n",
              "\n",
              "    .dataframe tbody tr th {\n",
              "        vertical-align: top;\n",
              "    }\n",
              "\n",
              "    .dataframe thead th {\n",
              "        text-align: right;\n",
              "    }\n",
              "</style>\n",
              "<table border=\"1\" class=\"dataframe\">\n",
              "  <thead>\n",
              "    <tr style=\"text-align: right;\">\n",
              "      <th></th>\n",
              "      <th>director_name</th>\n",
              "      <th>actor_1_name</th>\n",
              "      <th>actor_2_name</th>\n",
              "      <th>actor_3_name</th>\n",
              "      <th>genres</th>\n",
              "      <th>movie_title</th>\n",
              "      <th>comb</th>\n",
              "    </tr>\n",
              "  </thead>\n",
              "  <tbody>\n",
              "    <tr>\n",
              "      <th>0</th>\n",
              "      <td>James Cameron</td>\n",
              "      <td>CCH Pounder</td>\n",
              "      <td>Joel David Moore</td>\n",
              "      <td>Wes Studi</td>\n",
              "      <td>Action Adventure Fantasy Sci-Fi</td>\n",
              "      <td>avatar</td>\n",
              "      <td>CCH Pounder Joel David Moore Wes Studi James C...</td>\n",
              "    </tr>\n",
              "    <tr>\n",
              "      <th>1</th>\n",
              "      <td>Gore Verbinski</td>\n",
              "      <td>Johnny Depp</td>\n",
              "      <td>Orlando Bloom</td>\n",
              "      <td>Jack Davenport</td>\n",
              "      <td>Action Adventure Fantasy</td>\n",
              "      <td>pirates of the caribbean: at world's end</td>\n",
              "      <td>Johnny Depp Orlando Bloom Jack Davenport Gore ...</td>\n",
              "    </tr>\n",
              "    <tr>\n",
              "      <th>2</th>\n",
              "      <td>Sam Mendes</td>\n",
              "      <td>Christoph Waltz</td>\n",
              "      <td>Rory Kinnear</td>\n",
              "      <td>Stephanie Sigman</td>\n",
              "      <td>Action Adventure Thriller</td>\n",
              "      <td>spectre</td>\n",
              "      <td>Christoph Waltz Rory Kinnear Stephanie Sigman ...</td>\n",
              "    </tr>\n",
              "    <tr>\n",
              "      <th>3</th>\n",
              "      <td>Christopher Nolan</td>\n",
              "      <td>Tom Hardy</td>\n",
              "      <td>Christian Bale</td>\n",
              "      <td>Joseph Gordon-Levitt</td>\n",
              "      <td>Action Thriller</td>\n",
              "      <td>the dark knight rises</td>\n",
              "      <td>Tom Hardy Christian Bale Joseph Gordon-Levitt ...</td>\n",
              "    </tr>\n",
              "    <tr>\n",
              "      <th>4</th>\n",
              "      <td>Doug Walker</td>\n",
              "      <td>Doug Walker</td>\n",
              "      <td>Rob Walker</td>\n",
              "      <td>unknown</td>\n",
              "      <td>Documentary</td>\n",
              "      <td>star wars: episode vii - the force awakens    ...</td>\n",
              "      <td>Doug Walker Rob Walker unknown Doug Walker Doc...</td>\n",
              "    </tr>\n",
              "    <tr>\n",
              "      <th>...</th>\n",
              "      <td>...</td>\n",
              "      <td>...</td>\n",
              "      <td>...</td>\n",
              "      <td>...</td>\n",
              "      <td>...</td>\n",
              "      <td>...</td>\n",
              "      <td>...</td>\n",
              "    </tr>\n",
              "    <tr>\n",
              "      <th>5879</th>\n",
              "      <td>Nick Bruno, Troy Quane</td>\n",
              "      <td>Will Smith</td>\n",
              "      <td>Tom Holland</td>\n",
              "      <td>Rashida Jones</td>\n",
              "      <td>Animation Action Adventure Comedy Family</td>\n",
              "      <td>spies in disguise</td>\n",
              "      <td>Will Smith Tom Holland Rashida Jones Nick Brun...</td>\n",
              "    </tr>\n",
              "    <tr>\n",
              "      <th>5880</th>\n",
              "      <td>Greta Gerwig</td>\n",
              "      <td>Saoirse Ronan</td>\n",
              "      <td>Emma Watson</td>\n",
              "      <td>Florence Pugh</td>\n",
              "      <td>Drama Romance History</td>\n",
              "      <td>little women</td>\n",
              "      <td>Saoirse Ronan Emma Watson Florence Pugh Greta ...</td>\n",
              "    </tr>\n",
              "    <tr>\n",
              "      <th>5881</th>\n",
              "      <td>Sam Mendes</td>\n",
              "      <td>George MacKay</td>\n",
              "      <td>Dean-Charles Chapman</td>\n",
              "      <td>Mark Strong</td>\n",
              "      <td>War Drama History</td>\n",
              "      <td>1917</td>\n",
              "      <td>George MacKay Dean-Charles Chapman Mark Strong...</td>\n",
              "    </tr>\n",
              "    <tr>\n",
              "      <th>5882</th>\n",
              "      <td>Destin Daniel Cretton</td>\n",
              "      <td>Michael B. Jordan</td>\n",
              "      <td>Jamie Foxx</td>\n",
              "      <td>Brie Larson</td>\n",
              "      <td>Drama Crime History</td>\n",
              "      <td>just mercy</td>\n",
              "      <td>Michael B. Jordan Jamie Foxx Brie Larson Desti...</td>\n",
              "    </tr>\n",
              "    <tr>\n",
              "      <th>5883</th>\n",
              "      <td>Chinonye Chukwu</td>\n",
              "      <td>Alfre Woodard</td>\n",
              "      <td>Wendell Pierce</td>\n",
              "      <td>Aldis Hodge</td>\n",
              "      <td>Drama</td>\n",
              "      <td>clemency</td>\n",
              "      <td>Alfre Woodard Wendell Pierce Aldis Hodge Chino...</td>\n",
              "    </tr>\n",
              "  </tbody>\n",
              "</table>\n",
              "<p>5884 rows × 7 columns</p>\n",
              "</div>"
            ],
            "text/plain": [
              "               director_name       actor_1_name          actor_2_name  \\\n",
              "0              James Cameron        CCH Pounder      Joel David Moore   \n",
              "1             Gore Verbinski        Johnny Depp         Orlando Bloom   \n",
              "2                 Sam Mendes    Christoph Waltz          Rory Kinnear   \n",
              "3          Christopher Nolan          Tom Hardy        Christian Bale   \n",
              "4                Doug Walker        Doug Walker            Rob Walker   \n",
              "...                      ...                ...                   ...   \n",
              "5879  Nick Bruno, Troy Quane         Will Smith           Tom Holland   \n",
              "5880            Greta Gerwig      Saoirse Ronan           Emma Watson   \n",
              "5881              Sam Mendes      George MacKay  Dean-Charles Chapman   \n",
              "5882   Destin Daniel Cretton  Michael B. Jordan            Jamie Foxx   \n",
              "5883         Chinonye Chukwu      Alfre Woodard        Wendell Pierce   \n",
              "\n",
              "              actor_3_name                                    genres  \\\n",
              "0                Wes Studi           Action Adventure Fantasy Sci-Fi   \n",
              "1           Jack Davenport                  Action Adventure Fantasy   \n",
              "2         Stephanie Sigman                 Action Adventure Thriller   \n",
              "3     Joseph Gordon-Levitt                           Action Thriller   \n",
              "4                  unknown                               Documentary   \n",
              "...                    ...                                       ...   \n",
              "5879         Rashida Jones  Animation Action Adventure Comedy Family   \n",
              "5880         Florence Pugh                     Drama Romance History   \n",
              "5881           Mark Strong                         War Drama History   \n",
              "5882           Brie Larson                       Drama Crime History   \n",
              "5883           Aldis Hodge                                     Drama   \n",
              "\n",
              "                                            movie_title  \\\n",
              "0                                                avatar   \n",
              "1              pirates of the caribbean: at world's end   \n",
              "2                                               spectre   \n",
              "3                                 the dark knight rises   \n",
              "4     star wars: episode vii - the force awakens    ...   \n",
              "...                                                 ...   \n",
              "5879                                  spies in disguise   \n",
              "5880                                       little women   \n",
              "5881                                               1917   \n",
              "5882                                         just mercy   \n",
              "5883                                           clemency   \n",
              "\n",
              "                                                   comb  \n",
              "0     CCH Pounder Joel David Moore Wes Studi James C...  \n",
              "1     Johnny Depp Orlando Bloom Jack Davenport Gore ...  \n",
              "2     Christoph Waltz Rory Kinnear Stephanie Sigman ...  \n",
              "3     Tom Hardy Christian Bale Joseph Gordon-Levitt ...  \n",
              "4     Doug Walker Rob Walker unknown Doug Walker Doc...  \n",
              "...                                                 ...  \n",
              "5879  Will Smith Tom Holland Rashida Jones Nick Brun...  \n",
              "5880  Saoirse Ronan Emma Watson Florence Pugh Greta ...  \n",
              "5881  George MacKay Dean-Charles Chapman Mark Strong...  \n",
              "5882  Michael B. Jordan Jamie Foxx Brie Larson Desti...  \n",
              "5883  Alfre Woodard Wendell Pierce Aldis Hodge Chino...  \n",
              "\n",
              "[5884 rows x 7 columns]"
            ]
          },
          "execution_count": 71,
          "metadata": {},
          "output_type": "execute_result"
        }
      ],
      "source": [
        "old_df"
      ]
    },
    {
      "cell_type": "code",
      "execution_count": 72,
      "metadata": {
        "id": "P14B9e3GOZWZ"
      },
      "outputs": [
        {
          "name": "stderr",
          "output_type": "stream",
          "text": [
            "C:\\Users\\hrith\\AppData\\Local\\Temp\\ipykernel_16300\\3205022339.py:1: FutureWarning: The frame.append method is deprecated and will be removed from pandas in a future version. Use pandas.concat instead.\n",
            "  final_df = old_df.append(new_df20,ignore_index=True)\n"
          ]
        }
      ],
      "source": [
        "final_df = old_df.append(new_df20,ignore_index=True)"
      ]
    },
    {
      "cell_type": "code",
      "execution_count": 73,
      "metadata": {
        "id": "0RAVcY-jOZWZ",
        "outputId": "0e87fe5f-5a7a-4792-edf3-a5027e667af0"
      },
      "outputs": [
        {
          "data": {
            "text/html": [
              "<div>\n",
              "<style scoped>\n",
              "    .dataframe tbody tr th:only-of-type {\n",
              "        vertical-align: middle;\n",
              "    }\n",
              "\n",
              "    .dataframe tbody tr th {\n",
              "        vertical-align: top;\n",
              "    }\n",
              "\n",
              "    .dataframe thead th {\n",
              "        text-align: right;\n",
              "    }\n",
              "</style>\n",
              "<table border=\"1\" class=\"dataframe\">\n",
              "  <thead>\n",
              "    <tr style=\"text-align: right;\">\n",
              "      <th></th>\n",
              "      <th>director_name</th>\n",
              "      <th>actor_1_name</th>\n",
              "      <th>actor_2_name</th>\n",
              "      <th>actor_3_name</th>\n",
              "      <th>genres</th>\n",
              "      <th>movie_title</th>\n",
              "      <th>comb</th>\n",
              "    </tr>\n",
              "  </thead>\n",
              "  <tbody>\n",
              "    <tr>\n",
              "      <th>0</th>\n",
              "      <td>James Cameron</td>\n",
              "      <td>CCH Pounder</td>\n",
              "      <td>Joel David Moore</td>\n",
              "      <td>Wes Studi</td>\n",
              "      <td>Action Adventure Fantasy Sci-Fi</td>\n",
              "      <td>avatar</td>\n",
              "      <td>CCH Pounder Joel David Moore Wes Studi James C...</td>\n",
              "    </tr>\n",
              "    <tr>\n",
              "      <th>1</th>\n",
              "      <td>Gore Verbinski</td>\n",
              "      <td>Johnny Depp</td>\n",
              "      <td>Orlando Bloom</td>\n",
              "      <td>Jack Davenport</td>\n",
              "      <td>Action Adventure Fantasy</td>\n",
              "      <td>pirates of the caribbean: at world's end</td>\n",
              "      <td>Johnny Depp Orlando Bloom Jack Davenport Gore ...</td>\n",
              "    </tr>\n",
              "    <tr>\n",
              "      <th>2</th>\n",
              "      <td>Sam Mendes</td>\n",
              "      <td>Christoph Waltz</td>\n",
              "      <td>Rory Kinnear</td>\n",
              "      <td>Stephanie Sigman</td>\n",
              "      <td>Action Adventure Thriller</td>\n",
              "      <td>spectre</td>\n",
              "      <td>Christoph Waltz Rory Kinnear Stephanie Sigman ...</td>\n",
              "    </tr>\n",
              "    <tr>\n",
              "      <th>3</th>\n",
              "      <td>Christopher Nolan</td>\n",
              "      <td>Tom Hardy</td>\n",
              "      <td>Christian Bale</td>\n",
              "      <td>Joseph Gordon-Levitt</td>\n",
              "      <td>Action Thriller</td>\n",
              "      <td>the dark knight rises</td>\n",
              "      <td>Tom Hardy Christian Bale Joseph Gordon-Levitt ...</td>\n",
              "    </tr>\n",
              "    <tr>\n",
              "      <th>4</th>\n",
              "      <td>Doug Walker</td>\n",
              "      <td>Doug Walker</td>\n",
              "      <td>Rob Walker</td>\n",
              "      <td>unknown</td>\n",
              "      <td>Documentary</td>\n",
              "      <td>star wars: episode vii - the force awakens    ...</td>\n",
              "      <td>Doug Walker Rob Walker unknown Doug Walker Doc...</td>\n",
              "    </tr>\n",
              "    <tr>\n",
              "      <th>...</th>\n",
              "      <td>...</td>\n",
              "      <td>...</td>\n",
              "      <td>...</td>\n",
              "      <td>...</td>\n",
              "      <td>...</td>\n",
              "      <td>...</td>\n",
              "      <td>...</td>\n",
              "    </tr>\n",
              "    <tr>\n",
              "      <th>6124</th>\n",
              "      <td>Pete Docter</td>\n",
              "      <td>Jamie Foxx</td>\n",
              "      <td>Tina Fey</td>\n",
              "      <td>Graham Norton</td>\n",
              "      <td>NaN</td>\n",
              "      <td>soul</td>\n",
              "      <td>Jamie Foxx Tina Fey Graham Norton Pete Docter</td>\n",
              "    </tr>\n",
              "    <tr>\n",
              "      <th>6125</th>\n",
              "      <td>Robert Rodriguez</td>\n",
              "      <td>Priyanka Chopra Jonas</td>\n",
              "      <td>Pedro Pascal</td>\n",
              "      <td>YaYa Gosselin</td>\n",
              "      <td>NaN</td>\n",
              "      <td>we can be heroes</td>\n",
              "      <td>Priyanka Chopra Jonas Pedro Pascal YaYa Gossel...</td>\n",
              "    </tr>\n",
              "    <tr>\n",
              "      <th>6126</th>\n",
              "      <td>Regina King</td>\n",
              "      <td>Kingsley Ben-Adir</td>\n",
              "      <td>Eli Goree</td>\n",
              "      <td>Aldis Hodge</td>\n",
              "      <td>NaN</td>\n",
              "      <td>one night in miami...</td>\n",
              "      <td>Kingsley Ben-Adir Eli Goree Aldis Hodge Regina...</td>\n",
              "    </tr>\n",
              "    <tr>\n",
              "      <th>6127</th>\n",
              "      <td>Emerald Fennell</td>\n",
              "      <td>Carey Mulligan</td>\n",
              "      <td>Bo Burnham</td>\n",
              "      <td>Alison Brie</td>\n",
              "      <td>NaN</td>\n",
              "      <td>promising young woman</td>\n",
              "      <td>Carey Mulligan Bo Burnham Alison Brie Emerald ...</td>\n",
              "    </tr>\n",
              "    <tr>\n",
              "      <th>6128</th>\n",
              "      <td>Kornél Mundruczó</td>\n",
              "      <td>Vanessa Kirby</td>\n",
              "      <td>Shia LaBeouf</td>\n",
              "      <td>Molly Parker</td>\n",
              "      <td>NaN</td>\n",
              "      <td>pieces of a woman</td>\n",
              "      <td>Vanessa Kirby Shia LaBeouf Molly Parker Kornél...</td>\n",
              "    </tr>\n",
              "  </tbody>\n",
              "</table>\n",
              "<p>6129 rows × 7 columns</p>\n",
              "</div>"
            ],
            "text/plain": [
              "          director_name           actor_1_name      actor_2_name  \\\n",
              "0         James Cameron            CCH Pounder  Joel David Moore   \n",
              "1        Gore Verbinski            Johnny Depp     Orlando Bloom   \n",
              "2            Sam Mendes        Christoph Waltz      Rory Kinnear   \n",
              "3     Christopher Nolan              Tom Hardy    Christian Bale   \n",
              "4           Doug Walker            Doug Walker        Rob Walker   \n",
              "...                 ...                    ...               ...   \n",
              "6124        Pete Docter             Jamie Foxx          Tina Fey   \n",
              "6125   Robert Rodriguez  Priyanka Chopra Jonas      Pedro Pascal   \n",
              "6126        Regina King      Kingsley Ben-Adir         Eli Goree   \n",
              "6127    Emerald Fennell         Carey Mulligan        Bo Burnham   \n",
              "6128   Kornél Mundruczó          Vanessa Kirby      Shia LaBeouf   \n",
              "\n",
              "              actor_3_name                           genres  \\\n",
              "0                Wes Studi  Action Adventure Fantasy Sci-Fi   \n",
              "1           Jack Davenport         Action Adventure Fantasy   \n",
              "2         Stephanie Sigman        Action Adventure Thriller   \n",
              "3     Joseph Gordon-Levitt                  Action Thriller   \n",
              "4                  unknown                      Documentary   \n",
              "...                    ...                              ...   \n",
              "6124         Graham Norton                              NaN   \n",
              "6125         YaYa Gosselin                              NaN   \n",
              "6126           Aldis Hodge                              NaN   \n",
              "6127           Alison Brie                              NaN   \n",
              "6128          Molly Parker                              NaN   \n",
              "\n",
              "                                            movie_title  \\\n",
              "0                                                avatar   \n",
              "1              pirates of the caribbean: at world's end   \n",
              "2                                               spectre   \n",
              "3                                 the dark knight rises   \n",
              "4     star wars: episode vii - the force awakens    ...   \n",
              "...                                                 ...   \n",
              "6124                                               soul   \n",
              "6125                                   we can be heroes   \n",
              "6126                              one night in miami...   \n",
              "6127                              promising young woman   \n",
              "6128                                  pieces of a woman   \n",
              "\n",
              "                                                   comb  \n",
              "0     CCH Pounder Joel David Moore Wes Studi James C...  \n",
              "1     Johnny Depp Orlando Bloom Jack Davenport Gore ...  \n",
              "2     Christoph Waltz Rory Kinnear Stephanie Sigman ...  \n",
              "3     Tom Hardy Christian Bale Joseph Gordon-Levitt ...  \n",
              "4     Doug Walker Rob Walker unknown Doug Walker Doc...  \n",
              "...                                                 ...  \n",
              "6124      Jamie Foxx Tina Fey Graham Norton Pete Docter  \n",
              "6125  Priyanka Chopra Jonas Pedro Pascal YaYa Gossel...  \n",
              "6126  Kingsley Ben-Adir Eli Goree Aldis Hodge Regina...  \n",
              "6127  Carey Mulligan Bo Burnham Alison Brie Emerald ...  \n",
              "6128  Vanessa Kirby Shia LaBeouf Molly Parker Kornél...  \n",
              "\n",
              "[6129 rows x 7 columns]"
            ]
          },
          "execution_count": 73,
          "metadata": {},
          "output_type": "execute_result"
        }
      ],
      "source": [
        "final_df"
      ]
    },
    {
      "cell_type": "code",
      "execution_count": null,
      "metadata": {
        "id": "gCTWwaOiOZWZ"
      },
      "outputs": [],
      "source": [
        "final_df.to_csv('main_data.csv',index=False)"
      ]
    }
  ],
  "metadata": {
    "colab": {
      "collapsed_sections": [],
      "name": "preprocessing 4.ipynb",
      "provenance": []
    },
    "kernelspec": {
      "display_name": "Python 3",
      "language": "python",
      "name": "python3"
    },
    "language_info": {
      "codemirror_mode": {
        "name": "ipython",
        "version": 3
      },
      "file_extension": ".py",
      "mimetype": "text/x-python",
      "name": "python",
      "nbconvert_exporter": "python",
      "pygments_lexer": "ipython3",
      "version": "3.10.2"
    }
  },
  "nbformat": 4,
  "nbformat_minor": 0
}
